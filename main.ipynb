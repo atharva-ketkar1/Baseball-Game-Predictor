{
 "cells": [
  {
   "cell_type": "code",
   "execution_count": 90,
   "metadata": {},
   "outputs": [],
   "source": [
    "import pandas as pd\n",
    "import numpy as np\n",
    "import matplotlib.pyplot as plt"
   ]
  },
  {
   "cell_type": "code",
   "execution_count": 95,
   "metadata": {},
   "outputs": [],
   "source": [
    "colnames = ['date','dblheader_code','day_of_week','team_v','league_v','game_no_v',\n",
    "           'team_h','league_h','game_no_h', 'runs_v', 'runs_h','outs_total','day_night',\n",
    "            'completion_info','forfeit_info','protest_info','ballpark_id','attendance','game_minutes',\n",
    "            'linescore_v','linescore_h',\n",
    "           'AB_v','H_v','2B_v','3B_v','HR_v','RBI_v','SH_v','SF_v','HBP_v','BB_v','IBB_v','SO_v',\n",
    "            'SB_v', 'CS_v','GIDP_v','CI_v','LOB_v',\n",
    "            'P_num_v','ERind_v','ERteam_v','WP_v','balk_v',\n",
    "            'PO_v','ASST_v','ERR_v','PB_v','DP_v','TP_v',\n",
    "           'AB_h', 'H_h', '2B_h', '3B_h', 'HR_h', 'RBI_h', 'SH_h', 'SF_h', 'HBP_h', 'BB_h', 'IBB_h','SO_h',\n",
    "            'SB_h', 'CS_h', 'GIDP_h', 'CI_h', 'LOB_h',\n",
    "            'P_num_h', 'ERind_h', 'ERteam_h', 'WP_h', 'balk_h',\n",
    "            'PO_h', 'ASST_h', 'ERR_h', 'PB_h', 'DP_h', 'TP_h',\n",
    "            'ump_HB_id', 'ump_HB_name','ump_1B_id', 'ump_1B_name','ump_2B_id', 'ump_2B_name',\n",
    "            'ump_3B_id', 'ump_3B_name','ump_LF_id', 'ump_LF_name','ump_RF_id', 'ump_RF_name',\n",
    "            'mgr_id_v', 'mgr_name_v', 'mgr_id_h', 'mgr_name_h',\n",
    "            'pitcher_id_w','pitcher_name_w','pitcher_id_l','pitcher_name_l','pitcher_id_s','pitcher_name_s',\n",
    "            'GWRBI_id','GWRBI_name','pitcher_start_id_v','pitcher_start_name_v','pitcher_start_id_h','pitcher_start_name_h',\n",
    "            'batter1_name_v', 'batter1_id_v', 'batter1_pos_v', 'batter2_name_v', 'batter2_id_v', 'batter2_pos_v',\n",
    "            'batter3_name_v', 'batter3_id_v', 'batter3_pos_v', 'batter4_name_v', 'batter4_id_v', 'batter4_pos_v',\n",
    "            'batter5_name_v', 'batter5_id_v', 'batter5_pos_v', 'batter6_name_v', 'batter6_id_v', 'batter6_pos_v',\n",
    "            'batter7_name_v', 'batter7_id_v', 'batter7_pos_v', 'batter8_name_v', 'batter8_id_v', 'batter8_pos_v',\n",
    "            'batter9_name_v', 'batter9_id_v', 'batter9_pos_v', 'batter1_name_h', 'batter1_id_h', 'batter1_pos_h',\n",
    "            'batter2_name_h', 'batter2_id_h', 'batter2_pos_h', 'batter3_name_h', 'batter3_id_h', 'batter3_pos_h',\n",
    "            'batter4_name_h', 'batter4_id_h', 'batter4_pos_h', 'batter5_name_h', 'batter5_id_h', 'batter5_pos_h',\n",
    "            'batter6_name_h', 'batter6_id_h', 'batter6_pos_h', 'batter7_name_h', 'batter7_id_h', 'batter7_pos_h',\n",
    "            'batter8_name_h', 'batter8_id_h', 'batter8_pos_h', 'batter9_name_h', 'batter9_id_h', 'batter9_pos_h',           \n",
    "           'misc_info','acqui_info'\n",
    "           ]"
   ]
  },
  {
   "cell_type": "code",
   "execution_count": 92,
   "metadata": {},
   "outputs": [],
   "source": [
    "df = pd.DataFrame()\n",
    "for year in range(1990,2024):\n",
    "    df_temp = pd.read_csv('game_data/gl'+str(year)+'.txt', header=None)\n",
    "    df_temp.columns = colnames\n",
    "    df_temp['season'] = year\n",
    "    df = pd.concat((df,df_temp))"
   ]
  },
  {
   "cell_type": "code",
   "execution_count": 93,
   "metadata": {},
   "outputs": [],
   "source": [
    "df['run_diff'] = df['runs_h']-df['runs_v']\n",
    "df['home_victory'] = (df['run_diff']>0).astype(int)\n",
    "df['run_total'] = df['runs_h'].copy()+df['runs_v'].copy()\n",
    "df = df[df['run_diff'] != 0]"
   ]
  },
  {
   "cell_type": "code",
   "execution_count": 96,
   "metadata": {},
   "outputs": [
    {
     "data": {
      "text/plain": [
       "(78356, 165)"
      ]
     },
     "execution_count": 96,
     "metadata": {},
     "output_type": "execute_result"
    }
   ],
   "source": [
    "df.shape"
   ]
  },
  {
   "cell_type": "code",
   "execution_count": null,
   "metadata": {},
   "outputs": [],
   "source": []
  }
 ],
 "metadata": {
  "kernelspec": {
   "display_name": "Python 3",
   "language": "python",
   "name": "python3"
  },
  "language_info": {
   "codemirror_mode": {
    "name": "ipython",
    "version": 3
   },
   "file_extension": ".py",
   "mimetype": "text/x-python",
   "name": "python",
   "nbconvert_exporter": "python",
   "pygments_lexer": "ipython3",
   "version": "3.11.2"
  }
 },
 "nbformat": 4,
 "nbformat_minor": 2
}
